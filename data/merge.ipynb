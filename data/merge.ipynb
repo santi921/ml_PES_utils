{
 "cells": [
  {
   "cell_type": "code",
   "execution_count": 2,
   "metadata": {},
   "outputs": [],
   "source": [
    "from ase import io\n",
    "import os"
   ]
  },
  {
   "cell_type": "code",
   "execution_count": 7,
   "metadata": {},
   "outputs": [],
   "source": [
    "root = \"../will_data_061723/original/\"\n",
    "atoms_full = []\n",
    "for file in os.listdir(root):\n",
    "    if file.endswith(\".xyz\"):\n",
    "        frames = io.read(os.path.join(root, file), index=\":\")\n",
    "\n",
    "        for atoms in frames:\n",
    "            # del atoms.info[\"magmom\"]\n",
    "            # del atoms.info[\"dipole\"]\n",
    "            for atom in atoms:\n",
    "                if \"magmom\" in atom.data:\n",
    "                    del atom.data[\"magmom\"]\n",
    "\n",
    "        atoms_full.extend(frames)\n",
    "\n",
    "\n",
    "# io.write(os.path.join(root, \"will_full_test.xyz\"), atoms_full, magmom=False)\n",
    "def get_header_str(frame, write_stress=False, write_magmom=False):\n",
    "    if write_stress:\n",
    "        stress_str = \" \".join([str(i) for i in frame.get_stress().flatten()])\n",
    "    if write_magmom:\n",
    "        magmom = frame.info[\"magmom\"]\n",
    "\n",
    "    lattice_str = \" \".join([str(i) for i in frame.get_cell().flatten()])\n",
    "    ret_str = (\n",
    "        'Lattice=\"{}\" Properties=species:S:1:pos:R:3:forces:R:3 energy={} '.format(\n",
    "            lattice_str, frame.info[\"energy\"]\n",
    "        )\n",
    "    )\n",
    "    if write_stress:\n",
    "        ret_str += 'stress=\"{}\" '.format(stress_str)\n",
    "    if write_magmom:\n",
    "        ret_str += 'magmom=\"{}\" '.format(magmom)\n",
    "    ret_str += 'free_energy={} pbc=\"T T T\"\\n'.format(frame.info[\"energy\"])\n",
    "    return ret_str\n",
    "\n",
    "\n",
    "def custom_writer(filepath, atoms, write_stress=False, write_magmom=False):\n",
    "    with open(filepath, \"w\") as f:\n",
    "        for frame in atoms:\n",
    "            forces = frame.get_forces()\n",
    "            n_atoms = len(frame)\n",
    "            header_str = get_header_str(frame, write_stress, write_magmom)\n",
    "            f.write(\"{}\\n\".format(n_atoms))\n",
    "            f.write(header_str)\n",
    "            for ind, i in enumerate(frame):\n",
    "                f.write(\n",
    "                    \"{:2} {:14.8f} {:16.8f} {:16.8f} {:16.8f} {:16.8f} {:16.8f}\\n\".format(\n",
    "                        i.symbol.ljust(0),\n",
    "                        i.position[0],\n",
    "                        i.position[1],\n",
    "                        i.position[2],\n",
    "                        forces[ind][0],\n",
    "                        forces[ind][1],\n",
    "                        forces[ind][2],\n",
    "                    )\n",
    "                )\n",
    "\n",
    "\n",
    "custom_writer(os.path.join(root, \"will_full.xyz\"), atoms_full)"
   ]
  },
  {
   "cell_type": "code",
   "execution_count": 8,
   "metadata": {},
   "outputs": [],
   "source": [
    "will_train_atoms = io.read(os.path.join(root, \"will_full.xyz\"), index=\":\")"
   ]
  },
  {
   "cell_type": "code",
   "execution_count": 9,
   "metadata": {},
   "outputs": [],
   "source": [
    "# will file train full\n",
    "file_will_train = \"../will_data_061723/train/will_train_full.xyz\"\n",
    "will_train_atoms = io.read(os.path.join(root, file), index=\":\")\n",
    "root_old_data = \"../data_prior/\"\n",
    "root_merge_data = \"../data_merge_will/\"\n",
    "\n",
    "# iterate over all files in old data\n",
    "for file in os.listdir(root_old_data):\n",
    "    if file.endswith(\".xyz\"):\n",
    "        atoms = io.read(os.path.join(root_old_data, file), index=\":\")\n",
    "        atoms.extend(will_train_atoms)\n",
    "        file_new = file[:-4] + \"_will.xyz\"\n",
    "        custom_writer(\n",
    "            os.path.join(root_merge_data, file_new),\n",
    "            atoms,\n",
    "            write_magmom=False,\n",
    "            write_stress=False,\n",
    "        )\n",
    "        # io.write(os.path.join(root_merge_data, file_new), atoms)"
   ]
  },
  {
   "cell_type": "code",
   "execution_count": 10,
   "metadata": {},
   "outputs": [],
   "source": [
    "will_train_atoms = io.read(\"/home/santiagovargas/dev/ml_PES_utils/data_merge_will/target_md_aug_full_test_will.xyz\", index=\":\")"
   ]
  },
  {
   "cell_type": "code",
   "execution_count": 12,
   "metadata": {},
   "outputs": [
    {
     "data": {
      "text/plain": [
       "1366"
      ]
     },
     "execution_count": 12,
     "metadata": {},
     "output_type": "execute_result"
    }
   ],
   "source": [
    "len(will_train_atoms)"
   ]
  },
  {
   "cell_type": "code",
   "execution_count": null,
   "metadata": {},
   "outputs": [],
   "source": []
  }
 ],
 "metadata": {
  "kernelspec": {
   "display_name": "berkeley_pes",
   "language": "python",
   "name": "python3"
  },
  "language_info": {
   "codemirror_mode": {
    "name": "ipython",
    "version": 3
   },
   "file_extension": ".py",
   "mimetype": "text/x-python",
   "name": "python",
   "nbconvert_exporter": "python",
   "pygments_lexer": "ipython3",
   "version": "3.7.0"
  },
  "orig_nbformat": 4
 },
 "nbformat": 4,
 "nbformat_minor": 2
}
